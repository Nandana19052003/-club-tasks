{
 "cells": [
  {
   "cell_type": "markdown",
   "id": "141a8b8d",
   "metadata": {},
   "source": [
    "## B. NANDANA \n",
    "\n",
    "### 01. Web Scraping\n",
    "#### Can you write a Python script that scrapes (web-scraping) information about the 10 most COVID affected countries with the details (total cases, total deaths, and total recovered) from worldometers.info and write it to a CSV file.\n"
   ]
  },
  {
   "cell_type": "code",
   "execution_count": 153,
   "id": "c361a581",
   "metadata": {},
   "outputs": [
    {
     "name": "stdout",
     "output_type": "stream",
     "text": [
      "Imported all required modules\n"
     ]
    }
   ],
   "source": [
    "import os # module for navigating your machine eg: file directories\n",
    "import requests # module for requesting uris\n",
    "import csv # for handling csv files\n",
    "import pandas as pd # pandas for handling data\n",
    "from datetime import datetime # for working with data and time\n",
    "from bs4 import BeautifulSoup as soup # for parsing web pages\n",
    "\n",
    "print (\"Imported all required modules\")"
   ]
  },
  {
   "cell_type": "code",
   "execution_count": 154,
   "id": "16726d22",
   "metadata": {},
   "outputs": [
    {
     "data": {
      "text/plain": [
       "200"
      ]
     },
     "execution_count": 154,
     "metadata": {},
     "output_type": "execute_result"
    }
   ],
   "source": [
    "# Define the URL where the webpage can be accessed\n",
    "\n",
    "url = \"https://www.worldometers.info/coronavirus/#countries\"  #website that provides real-time information about the coronavirus pandemic.\n",
    "\n",
    "#Request the web page from the URL\n",
    "\n",
    "response = requests.get(url, allow_redirects = True) # used to send a GET request to the specified URL.\n",
    "                                                     #allow_redirects parameter is set to True, \n",
    "    #which means that the function will automatically follow any redirects that are returned by the server. This can be useful if the server redirects the client to a different URL, but it can also introduce security risks if the server redirects the client to an unexpected location.\n",
    "\n",
    "response.status_code \n",
    "#The response variable will contain the server's response to the GET request. \n",
    "#The status_code attribute of the response object can be used to check if the request was successful. A status code of 200 indicates that the request was successful and the server returned the requested content, while other status codes indicate different types of error or redirection.\n",
    "# check if the page was requested successfully"
   ]
  },
  {
   "cell_type": "markdown",
   "id": "6f64f28f",
   "metadata": {},
   "source": [
    " 100s - Informational: More input is expected from client or server \n",
    " \n",
    " 200s - Success: The client's request was successful\n",
    "\n",
    "300s - Redirection: Requested URL is located elsewhere; May need user's further action\n",
    "\n",
    "400s - Client Error: Client-side error \n",
    "\n",
    "500s - Server Error: Server-side error or server is incapable of performing the request "
   ]
  },
  {
   "cell_type": "code",
   "execution_count": 155,
   "id": "86d04a46",
   "metadata": {},
   "outputs": [
    {
     "name": "stdout",
     "output_type": "stream",
     "text": [
      "proceeding with webscrapping\n"
     ]
    }
   ],
   "source": [
    "if response.ok:\n",
    "    print('proceeding with webscrapping')\n",
    "    # proceed with webscrapping\n",
    "else:\n",
    "    print('An error occured')\n",
    "\n",
    "    #You should also check if the content is available before proceeding with webscrapping."
   ]
  },
  {
   "cell_type": "code",
   "execution_count": 156,
   "id": "f79b22fe",
   "metadata": {},
   "outputs": [],
   "source": [
    "import time\n",
    "time.sleep(1) # sleep for 1 second\n",
    "\n",
    "#It's also a best practice to add a delay between requests to a website, also known as \"rate limiting\", \n",
    "#to avoid overloading the server or getting blocked by the website. This can be achieved by using the time.sleep() function to pause the script for a specific amount of time between requests."
   ]
  },
  {
   "cell_type": "markdown",
   "id": "a4ec99bc",
   "metadata": {},
   "source": [
    "The response.headers attribute returns a Python dictionary-like object that contains the headers of the server's response. The headers contain information about the server and the requested resource, such as the content type, the date the resource was last modified, and the size of the resource. "
   ]
  },
  {
   "cell_type": "code",
   "execution_count": 157,
   "id": "f84a1fe7",
   "metadata": {
    "scrolled": true
   },
   "outputs": [
    {
     "data": {
      "text/plain": [
       "{'Connection': 'Keep-Alive', 'Set-Cookie': 'mobile_detect=desktop; expires=Thu, 09-Feb-2023 10:54:29 GMT; Max-Age=2592000; path=/; secure', 'Content-Type': 'text/html; charset=UTF-8', 'Etag': '\"925287914-1673348069;br\"', 'X-Litespeed-Cache': 'miss', 'Transfer-Encoding': 'chunked', 'Content-Encoding': 'br', 'Vary': 'Accept-Encoding', 'Date': 'Tue, 10 Jan 2023 10:54:29 GMT', 'Server': 'LiteSpeed', 'Alt-Svc': 'quic=\":443\"; ma=2592000; v=\"43,46\", h3-Q043=\":443\"; ma=2592000, h3-Q046=\":443\"; ma=2592000, h3-Q050=\":443\"; ma=2592000, h3-25=\":443\"; ma=2592000, h3-27=\":443\"; ma=2592000'}"
      ]
     },
     "execution_count": 157,
     "metadata": {},
     "output_type": "execute_result"
    }
   ],
   "source": [
    "response.headers"
   ]
  },
  {
   "cell_type": "markdown",
   "id": "1d4165ee",
   "metadata": {},
   "source": [
    "property that is used to access the headers of an HTTP response. It typically returns an object or a dictionary-like structure that contains key-value pairs representing the headers of the response."
   ]
  },
  {
   "cell_type": "code",
   "execution_count": 158,
   "id": "09802d43",
   "metadata": {},
   "outputs": [
    {
     "data": {
      "text/plain": [
       "'\\n<!DOCTYPE html>\\n<!--[if IE 8]> <html lang=\"en\" class=\"ie8\"> <![endif]-->\\n<!--[if IE 9]> <html lang=\"en\" class=\"ie9\"> <![endif]-->\\n<!--[if !IE]><!-->\\n<html lang=\"en\">\\n<!--<![endif]-->\\n\\n\\n\\n<head>\\n    <meta charset=\"utf-8\">\\n    <meta http-equiv=\"X-UA-Compatible\" content=\"IE=edge\">\\n    <meta name=\"viewport\" content=\"width=device-width, initial-scale=1\">\\n\\n    <title>COVID Live - Coronavirus Statistics - Worldometer</title>\\n    <meta name=\"description\" content=\"Live statistics and coronavirus news tracking the number of confirmed cases, recovered patients, tests, and death toll due to the COVID-19 coronavirus from Wuhan, China. Coronavirus counter with new cases, deaths, and number of tests per 1 Million population. Historical data and info. Daily charts, graphs, news and updates\">\\n\\n\\n    \\n\\t<!-- Favicon -->\\n\\t<link rel=\"shortcut icon\" href=\"/favicon/favicon.ico\" type=\"image/x-icon\">\\n\\t<link rel=\"apple-touch-icon\" sizes=\"57x57\" href=\"/favicon/apple-icon-57x57.png\">\\n\\t<link rel=\"apple-touch-icon\" '"
      ]
     },
     "execution_count": 158,
     "metadata": {},
     "output_type": "execute_result"
    }
   ],
   "source": [
    "response.text[:1000]"
   ]
  },
  {
   "cell_type": "markdown",
   "id": "6634ac8e",
   "metadata": {},
   "source": [
    "### Parsing the web page"
   ]
  },
  {
   "cell_type": "code",
   "execution_count": 159,
   "id": "1637a5db",
   "metadata": {},
   "outputs": [
    {
     "data": {
      "text/plain": [
       "\n",
       "<!DOCTYPE html>\n",
       "\n",
       "<!--[if IE 8]> <html lang=\"en\" class=\"ie8\"> <![endif]-->\n",
       "<!--[if IE 9]> <html lang=\"en\" class=\"ie9\"> <![endif]-->\n",
       "<!--[if !IE]><!-->\n",
       "<html lang=\"en\">\n",
       "<!--<![endif]-->\n",
       "<head>\n",
       "<meta charset=\"utf-8\"/>\n",
       "<meta content=\"IE=edge\" http-equiv=\"X-UA-Compatible\"/>\n",
       "<meta content=\"width=device-width, initial-scale=1\" name=\"viewport\"/>\n",
       "<title>COVID Live - Coronavirus Statistics - Worldometer</title>\n",
       "<meta content=\"Live statistics and coronavirus news tracking the number of confirmed cases, recovered patients, tests, and death toll due to the COVID-19 coronavirus from Wuhan, China. Coronavirus counter with new cases, deaths, and number of tests per 1 Million population. Historical data and info. Daily charts, graphs, news and updates\" name=\"description\"/>\n",
       "<!-- Favicon -->\n",
       "<link href=\"/favicon/favicon.ico\" rel=\"shortcut icon\" type=\"image/x-icon\"/>\n",
       "<link href=\"/favicon/apple-icon-57x57.png\" rel=\"apple-touch-icon\" sizes=\"57x57\"/>\n",
       "\t&lt;link rel=\"apple-touch-icon\" </head></html>"
      ]
     },
     "execution_count": 159,
     "metadata": {},
     "output_type": "execute_result"
    }
   ],
   "source": [
    "# Extract the contents of the web page from the response\n",
    "\n",
    "soup_response = soup(response.text, \"html.parser\") #Parse the text as a Beautiful Soup object\n",
    "soup_sample = soup(response.text[:1000], \"html.parser\") # Parse a sample of the text\n",
    "soup_sample"
   ]
  },
  {
   "cell_type": "markdown",
   "id": "947ba78f",
   "metadata": {},
   "source": [
    "### Extracting information"
   ]
  },
  {
   "cell_type": "code",
   "execution_count": 160,
   "id": "fedf27bd",
   "metadata": {},
   "outputs": [
    {
     "data": {
      "text/plain": [
       "[<div id=\"maincounter-wrap\" style=\"margin-top:15px\">\n",
       " <h1>Coronavirus Cases:</h1>\n",
       " <div class=\"maincounter-number\">\n",
       " <span style=\"color:#aaa\">669,167,798        </span>\n",
       " </div>\n",
       " </div>,\n",
       " <div id=\"maincounter-wrap\" style=\"margin-top:15px\">\n",
       " <h1>Deaths:</h1>\n",
       " <div class=\"maincounter-number\">\n",
       " <span>6,716,659</span>\n",
       " </div>\n",
       " </div>,\n",
       " <div id=\"maincounter-wrap\" style=\"margin-top:15px;\">\n",
       " <h1>Recovered:</h1>\n",
       " <div class=\"maincounter-number\" style=\"color:#8ACA2B \">\n",
       " <span>640,431,448</span>\n",
       " </div>\n",
       " </div>]"
      ]
     },
     "execution_count": 160,
     "metadata": {},
     "output_type": "execute_result"
    }
   ],
   "source": [
    "sections = soup_response.find_all(\"div\", id = \"maincounter-wrap\")\n",
    "sections"
   ]
  },
  {
   "cell_type": "code",
   "execution_count": 161,
   "id": "3d928ad0",
   "metadata": {},
   "outputs": [
    {
     "data": {
      "text/plain": [
       "3"
      ]
     },
     "execution_count": 161,
     "metadata": {},
     "output_type": "execute_result"
    }
   ],
   "source": [
    "len(sections)"
   ]
  },
  {
   "cell_type": "code",
   "execution_count": 162,
   "id": "a7876a87",
   "metadata": {},
   "outputs": [
    {
     "name": "stdout",
     "output_type": "stream",
     "text": [
      "------\n",
      "<div id=\"maincounter-wrap\" style=\"margin-top:15px\">\n",
      "<h1>Coronavirus Cases:</h1>\n",
      "<div class=\"maincounter-number\">\n",
      "<span style=\"color:#aaa\">669,167,798        </span>\n",
      "</div>\n",
      "</div>\n",
      "------\n",
      "/r\n",
      "------\n",
      "<div id=\"maincounter-wrap\" style=\"margin-top:15px\">\n",
      "<h1>Deaths:</h1>\n",
      "<div class=\"maincounter-number\">\n",
      "<span>6,716,659</span>\n",
      "</div>\n",
      "</div>\n",
      "------\n",
      "/r\n",
      "------\n",
      "<div id=\"maincounter-wrap\" style=\"margin-top:15px;\">\n",
      "<h1>Recovered:</h1>\n",
      "<div class=\"maincounter-number\" style=\"color:#8ACA2B \">\n",
      "<span>640,431,448</span>\n",
      "</div>\n",
      "</div>\n",
      "------\n",
      "/r\n"
     ]
    }
   ],
   "source": [
    "for section in sections:\n",
    "    print(\"------\")\n",
    "    print(section)\n",
    "    print(\"------\")\n",
    "    print(\"/r\") # print some blank space for better formatting"
   ]
  },
  {
   "cell_type": "code",
   "execution_count": 163,
   "id": "ec596d84",
   "metadata": {},
   "outputs": [
    {
     "name": "stdout",
     "output_type": "stream",
     "text": [
      "No. of cases: 669 167 798; death: 6,716,659; and recoveries: 640,431,448.\n"
     ]
    }
   ],
   "source": [
    "cases = sections[0].find(\"span\").text.replace(\" \", \"\").replace(\",\", \" \")\n",
    "deaths = sections[1].find(\"span\").text.replace(\" \", \"\")\n",
    "recov = sections[2].find(\"span\").text.replace(\" \", \"\")\n",
    "print(\"No. of cases: {}; death: {}; and recoveries: {}.\".format(cases, deaths,recov))\n"
   ]
  },
  {
   "cell_type": "markdown",
   "id": "b256c9fa",
   "metadata": {},
   "source": [
    "#### Saving Results from the Scrape"
   ]
  },
  {
   "cell_type": "code",
   "execution_count": 164,
   "id": "83057dac",
   "metadata": {},
   "outputs": [
    {
     "name": "stdout",
     "output_type": "stream",
     "text": [
      "Folder already exists\n"
     ]
    }
   ],
   "source": [
    "# create a document folder\n",
    "\n",
    "import os\n",
    "\n",
    "directory = \"./Documents\"\n",
    "\n",
    "if not os.path.exists(directory):\n",
    "    os.makedirs(directory)\n",
    "else:\n",
    "    print(\"Folder already exists\")\n"
   ]
  },
  {
   "cell_type": "code",
   "execution_count": 165,
   "id": "09537255",
   "metadata": {},
   "outputs": [
    {
     "name": "stdout",
     "output_type": "stream",
     "text": [
      "10-01-2023\n"
     ]
    }
   ],
   "source": [
    "# Write the results to a CSV file\n",
    "date = datetime.now().strftime(\"%d-%m-%Y\")  # to get todays date\n",
    "print(date)"
   ]
  },
  {
   "cell_type": "code",
   "execution_count": 166,
   "id": "868d4fb9",
   "metadata": {},
   "outputs": [
    {
     "name": "stdout",
     "output_type": "stream",
     "text": [
      "('669 167 798', '6,716,659', '640,431,448')\n"
     ]
    }
   ],
   "source": [
    "variables = [\"Total Cases\", \"Total Deaths\",\"Total Recoveries\"] # definining variable names for the file\n",
    "out_file = \"./Documents/covid-19-statistics\" + date + \".csv\"#definining a file for writing the results\n",
    "observation = cases, deaths, recov # define an observation (row)\n",
    "print(observation)"
   ]
  },
  {
   "cell_type": "code",
   "execution_count": 167,
   "id": "e24d1dbc",
   "metadata": {},
   "outputs": [],
   "source": [
    "with open(out_file, \"w\", newline=\"\") as file:   \n",
    "    writer = csv.writer(file)\n",
    "    writer.writerow(variables)\n",
    "    writer.writerow(observation)"
   ]
  },
  {
   "cell_type": "code",
   "execution_count": 168,
   "id": "8a6fec53",
   "metadata": {},
   "outputs": [
    {
     "data": {
      "text/plain": [
       "['covid-19-10-country-statistics10-01-2023.csv',\n",
       " 'covid-19-country-statistics10-01-2023.csv',\n",
       " 'covid-19-statistics10-01-2023.csv']"
      ]
     },
     "execution_count": 168,
     "metadata": {},
     "output_type": "execute_result"
    }
   ],
   "source": [
    "# check if the file is present in documents folder\n",
    "os.listdir(\"./Documents\")"
   ]
  },
  {
   "cell_type": "code",
   "execution_count": 169,
   "id": "a770f128",
   "metadata": {},
   "outputs": [
    {
     "name": "stdout",
     "output_type": "stream",
     "text": [
      "Total Cases,Total Deaths,Total Recoveries\n",
      "669 167 798,\"6,716,659\",\"640,431,448\"\n",
      "\n"
     ]
    }
   ],
   "source": [
    "with open(out_file, \"r\") as file:\n",
    "    data = file.read()\n",
    "    \n",
    "print(data)\n"
   ]
  },
  {
   "cell_type": "markdown",
   "id": "ac43bf08",
   "metadata": {},
   "source": [
    "## Country level COVID 19 Data"
   ]
  },
  {
   "cell_type": "code",
   "execution_count": 170,
   "id": "f9c0293f",
   "metadata": {},
   "outputs": [],
   "source": [
    "date = datetime.now().strftime(\"%d-%m-%Y\") "
   ]
  },
  {
   "cell_type": "markdown",
   "id": "da6f32b9",
   "metadata": {},
   "source": [
    "Extract the information contained in each row in a table :"
   ]
  },
  {
   "cell_type": "code",
   "execution_count": 171,
   "id": "6f188b6b",
   "metadata": {},
   "outputs": [],
   "source": [
    "table = soup_response.find(\"table\",id = \"main_table_countries_today\").find(\"tbody\")\n",
    "rows = table.find_all(\"tr\", style =\"\")"
   ]
  },
  {
   "cell_type": "code",
   "execution_count": 172,
   "id": "2dc17e84",
   "metadata": {},
   "outputs": [
    {
     "name": "stdout",
     "output_type": "stream",
     "text": [
      "[['', 'World', '669,167,798', '+177,404', '6,716,659', '+517', '640,431,448', '22,019,691', '48,532', '85,848', '861.7', '', '', '', 'All', '', '', '', '', '', ''], ['1', 'USA', '103,123,617', '', '1,121,298', '', '100,027,148', '1,975,171', '4,874', '308,011', '3,349', '1,155,691,065', '3,451,831', '334,805,269', 'North America', '3', '299', '0', '', '', '5,899'], ['2', 'India', '44,681,355', '', '530,722', '', '44,147,174', '3,459', '698', '31,765', '377', '912,192,538', '648,494', '1,406,631,776', 'Asia', '31', '2,650', '2', '', '', '2'], ['3', 'France', '39,409,429', '', '162,990', '', '38,808,127', '438,312', '869', '600,895', '2,485', '271,490,188', '4,139,547', '65,584,518', 'Europe', '2', '402', '0', '', '', '6,683'], ['4', 'Germany', '37,540,072', '', '162,975', '', '36,905,700', '471,397', '1,406', '447,526', '1,943', '122,332,384', '1,458,359', '83,883,596', 'Europe', '2', '515', '1', '', '', '5,620'], ['5', 'Brazil', '36,515,758', '', '694,949', '', '35,247,755', '573,054', '8,318', '169,562', '3,227', '63,776,166', '296,146', '215,353,593', 'South America', '6', '310', '3', '', '', '2,661'], ['6', 'Japan', '30,647,859', '+75,504', '60,411', '+253', '21,271,832', '9,315,616', '656', '244,041', '481', '88,389,228', '703,821', '125,584,838', 'Asia', '4', '2,079', '1', '601', '2', '74,178'], ['7', 'S. Korea', '29,599,747', '+60,041', '32,669', '+44', '28,501,933', '1,065,145', '541', '576,657', '636', '15,804,065', '307,892', '51,329,899', 'Asia', '2', '1,571', '3', '1,170', '0.9', '20,751'], ['8', 'Italy', '25,279,682', '', '185,417', '', '24,688,083', '406,182', '319', '419,491', '3,077', '263,414,564', '4,371,100', '60,262,770', 'Europe', '2', '325', '0', '', '', '6,740'], ['9', 'UK', '24,210,131', '', '201,028', '', '23,888,866', '120,237', '146', '353,443', '2,935', '522,526,476', '7,628,357', '68,497,907', 'Europe', '3', '341', '0', '', '', '1,755']]\n",
      "\r\n",
      "No. of rows in a table : 222\n",
      "\r\n"
     ]
    }
   ],
   "source": [
    "global_info = []\n",
    "for row in rows:\n",
    "    coloumns = row.find_all(\"td\")\n",
    "    country_info = [coloumn.text.strip() for coloumn in coloumns]\n",
    "    del country_info[7]\n",
    "    global_info.append(country_info)\n",
    "    \n",
    "print(global_info[0:10])\n",
    "print(\"\\r\")\n",
    "print(\"No. of rows in a table : {}\".format(len(global_info)))\n",
    "print(\"\\r\")\n",
    "\n",
    "del global_info[0] # delete first row with world statistics\n"
   ]
  },
  {
   "cell_type": "markdown",
   "id": "67ef1322",
   "metadata": {},
   "source": [
    "Save this scape to a file: "
   ]
  },
  {
   "cell_type": "code",
   "execution_count": 173,
   "id": "5ed5c3a5",
   "metadata": {},
   "outputs": [
    {
     "name": "stdout",
     "output_type": "stream",
     "text": [
      "Unable to create the folder..It already exists\n",
      "./Documents/covid-19-country-statistics10-01-2023.csv\n"
     ]
    }
   ],
   "source": [
    "import os\n",
    "\n",
    "try:\n",
    "    os.mkdir(\"./Documents\")\n",
    "except OSError as error:\n",
    "    print(\"Unable to create the folder..It already exists\")\n",
    "    \n",
    "variables = [\"No.\", \"Country\",\"Total Cases\",\"Total Deaths\",\n",
    "             \"Total Recovered\"] \n",
    "\n",
    "date = datetime.now().strftime(\"%d-%m-%Y\")  # to get todays date\n",
    "out_file = \"./Documents/covid-19-country-statistics\" + date + \".csv\"#definining a file for writing the results\n",
    "with open(out_file, \"w\") as file:\n",
    "        file.write(\",\".join(variables))\n",
    "print(out_file)"
   ]
  },
  {
   "cell_type": "code",
   "execution_count": 174,
   "id": "07a0069b",
   "metadata": {},
   "outputs": [],
   "source": [
    "with open(out_file, \"w\", newline=\"\") as file:   \n",
    "    writer = csv.writer(file)\n",
    "    writer.writerow(variables)\n",
    "    for country in global_info:\n",
    "        writer.writerow(country)"
   ]
  },
  {
   "cell_type": "code",
   "execution_count": 175,
   "id": "8d7a310a",
   "metadata": {},
   "outputs": [
    {
     "name": "stderr",
     "output_type": "stream",
     "text": [
      "C:\\Users\\bnand\\AppData\\Local\\Temp\\ipykernel_21356\\2077958734.py:1: ParserWarning: Length of header or names does not match length of data. This leads to a loss of data with index_col=False.\n",
      "  data = pd.read_csv(out_file, encoding = \"ISO-8859-1\", index_col = False)\n"
     ]
    },
    {
     "data": {
      "text/html": [
       "<div>\n",
       "<style scoped>\n",
       "    .dataframe tbody tr th:only-of-type {\n",
       "        vertical-align: middle;\n",
       "    }\n",
       "\n",
       "    .dataframe tbody tr th {\n",
       "        vertical-align: top;\n",
       "    }\n",
       "\n",
       "    .dataframe thead th {\n",
       "        text-align: right;\n",
       "    }\n",
       "</style>\n",
       "<table border=\"1\" class=\"dataframe\">\n",
       "  <thead>\n",
       "    <tr style=\"text-align: right;\">\n",
       "      <th></th>\n",
       "      <th>No.</th>\n",
       "      <th>Country</th>\n",
       "      <th>Total Cases</th>\n",
       "      <th>Total Deaths</th>\n",
       "      <th>Total Recovered</th>\n",
       "    </tr>\n",
       "  </thead>\n",
       "  <tbody>\n",
       "    <tr>\n",
       "      <th>0</th>\n",
       "      <td>1</td>\n",
       "      <td>USA</td>\n",
       "      <td>103,123,617</td>\n",
       "      <td>NaN</td>\n",
       "      <td>1,121,298</td>\n",
       "    </tr>\n",
       "    <tr>\n",
       "      <th>1</th>\n",
       "      <td>2</td>\n",
       "      <td>India</td>\n",
       "      <td>44,681,355</td>\n",
       "      <td>NaN</td>\n",
       "      <td>530,722</td>\n",
       "    </tr>\n",
       "    <tr>\n",
       "      <th>2</th>\n",
       "      <td>3</td>\n",
       "      <td>France</td>\n",
       "      <td>39,409,429</td>\n",
       "      <td>NaN</td>\n",
       "      <td>162,990</td>\n",
       "    </tr>\n",
       "    <tr>\n",
       "      <th>3</th>\n",
       "      <td>4</td>\n",
       "      <td>Germany</td>\n",
       "      <td>37,540,072</td>\n",
       "      <td>NaN</td>\n",
       "      <td>162,975</td>\n",
       "    </tr>\n",
       "    <tr>\n",
       "      <th>4</th>\n",
       "      <td>5</td>\n",
       "      <td>Brazil</td>\n",
       "      <td>36,515,758</td>\n",
       "      <td>NaN</td>\n",
       "      <td>694,949</td>\n",
       "    </tr>\n",
       "    <tr>\n",
       "      <th>5</th>\n",
       "      <td>6</td>\n",
       "      <td>Japan</td>\n",
       "      <td>30,647,859</td>\n",
       "      <td>+75,504</td>\n",
       "      <td>60,411</td>\n",
       "    </tr>\n",
       "    <tr>\n",
       "      <th>6</th>\n",
       "      <td>7</td>\n",
       "      <td>S. Korea</td>\n",
       "      <td>29,599,747</td>\n",
       "      <td>+60,041</td>\n",
       "      <td>32,669</td>\n",
       "    </tr>\n",
       "    <tr>\n",
       "      <th>7</th>\n",
       "      <td>8</td>\n",
       "      <td>Italy</td>\n",
       "      <td>25,279,682</td>\n",
       "      <td>NaN</td>\n",
       "      <td>185,417</td>\n",
       "    </tr>\n",
       "    <tr>\n",
       "      <th>8</th>\n",
       "      <td>9</td>\n",
       "      <td>UK</td>\n",
       "      <td>24,210,131</td>\n",
       "      <td>NaN</td>\n",
       "      <td>201,028</td>\n",
       "    </tr>\n",
       "    <tr>\n",
       "      <th>9</th>\n",
       "      <td>10</td>\n",
       "      <td>Russia</td>\n",
       "      <td>21,832,768</td>\n",
       "      <td>+3,032</td>\n",
       "      <td>394,168</td>\n",
       "    </tr>\n",
       "  </tbody>\n",
       "</table>\n",
       "</div>"
      ],
      "text/plain": [
       "   No.   Country  Total Cases Total Deaths Total Recovered\n",
       "0    1       USA  103,123,617          NaN       1,121,298\n",
       "1    2     India   44,681,355          NaN         530,722\n",
       "2    3    France   39,409,429          NaN         162,990\n",
       "3    4   Germany   37,540,072          NaN         162,975\n",
       "4    5    Brazil   36,515,758          NaN         694,949\n",
       "5    6     Japan   30,647,859      +75,504          60,411\n",
       "6    7  S. Korea   29,599,747      +60,041          32,669\n",
       "7    8     Italy   25,279,682          NaN         185,417\n",
       "8    9        UK   24,210,131          NaN         201,028\n",
       "9   10    Russia   21,832,768       +3,032         394,168"
      ]
     },
     "execution_count": 175,
     "metadata": {},
     "output_type": "execute_result"
    }
   ],
   "source": [
    "data = pd.read_csv(out_file, encoding = \"ISO-8859-1\", index_col = False)\n",
    "data.head(10)\n"
   ]
  },
  {
   "cell_type": "code",
   "execution_count": 176,
   "id": "d7cc7a50",
   "metadata": {},
   "outputs": [
    {
     "data": {
      "text/html": [
       "<div>\n",
       "<style scoped>\n",
       "    .dataframe tbody tr th:only-of-type {\n",
       "        vertical-align: middle;\n",
       "    }\n",
       "\n",
       "    .dataframe tbody tr th {\n",
       "        vertical-align: top;\n",
       "    }\n",
       "\n",
       "    .dataframe thead th {\n",
       "        text-align: right;\n",
       "    }\n",
       "</style>\n",
       "<table border=\"1\" class=\"dataframe\">\n",
       "  <thead>\n",
       "    <tr style=\"text-align: right;\">\n",
       "      <th></th>\n",
       "      <th>No.</th>\n",
       "      <th>Country</th>\n",
       "      <th>Total Cases</th>\n",
       "      <th>Total Deaths</th>\n",
       "      <th>Total Recovered</th>\n",
       "    </tr>\n",
       "  </thead>\n",
       "  <tbody>\n",
       "    <tr>\n",
       "      <th>1</th>\n",
       "      <td>2</td>\n",
       "      <td>India</td>\n",
       "      <td>44,681,355</td>\n",
       "      <td>NaN</td>\n",
       "      <td>530,722</td>\n",
       "    </tr>\n",
       "  </tbody>\n",
       "</table>\n",
       "</div>"
      ],
      "text/plain": [
       "   No. Country Total Cases Total Deaths Total Recovered\n",
       "1    2   India  44,681,355          NaN         530,722"
      ]
     },
     "execution_count": 176,
     "metadata": {},
     "output_type": "execute_result"
    }
   ],
   "source": [
    "data[data[\"Country\"] == \"India\"]\n"
   ]
  },
  {
   "cell_type": "markdown",
   "id": "c6568012",
   "metadata": {},
   "source": [
    "Create a new csv file with only ten countries and its data"
   ]
  },
  {
   "cell_type": "code",
   "execution_count": 179,
   "id": "6917af37",
   "metadata": {},
   "outputs": [
    {
     "name": "stderr",
     "output_type": "stream",
     "text": [
      "C:\\Users\\bnand\\AppData\\Local\\Temp\\ipykernel_21356\\3560645788.py:3: ParserWarning: Length of header or names does not match length of data. This leads to a loss of data with index_col=False.\n",
      "  data = pd.read_csv(out_file, encoding = \"ISO-8859-1\", index_col = False)\n"
     ]
    }
   ],
   "source": [
    "import pandas as pd\n",
    "\n",
    "data = pd.read_csv(out_file, encoding = \"ISO-8859-1\", index_col = False)\n",
    "item = data.head(10)\n",
    "# Specify the name of the output file and the directory where it should be saved\n",
    "output_file = \"./Documents/covid-19-10-country-statistics\" + date + \".csv\"#definining a file for writing the results\n",
    "\n",
    "# Use the to_csv() method of the DataFrame to save the data to a CSV file\n",
    "item.to_csv(output_file, index=False)\n",
    "\n"
   ]
  }
 ],
 "metadata": {
  "kernelspec": {
   "display_name": "Python 3 (ipykernel)",
   "language": "python",
   "name": "python3"
  },
  "language_info": {
   "codemirror_mode": {
    "name": "ipython",
    "version": 3
   },
   "file_extension": ".py",
   "mimetype": "text/x-python",
   "name": "python",
   "nbconvert_exporter": "python",
   "pygments_lexer": "ipython3",
   "version": "3.9.12"
  }
 },
 "nbformat": 4,
 "nbformat_minor": 5
}
