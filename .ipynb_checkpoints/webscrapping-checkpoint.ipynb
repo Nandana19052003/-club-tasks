{
 "cells": [
  {
   "cell_type": "code",
   "execution_count": 2,
   "id": "bdfcc270",
   "metadata": {},
   "outputs": [
    {
     "name": "stdout",
     "output_type": "stream",
     "text": [
      "Imported all required modules\n"
     ]
    }
   ],
   "source": [
    "import os # module for navigating your machine eg: file directories\n",
    "import requests # module for requesting uris\n",
    "import csv # for handling csv files\n",
    "import pandas as pd # pandas for handling data\n",
    "from datetime import datetime # for working with data and time\n",
    "from bs4 import BeautifulSoup as soup # for parsing web pages\n",
    "\n",
    "print (\"Imported all required modules\")"
   ]
  },
  {
   "cell_type": "code",
   "execution_count": 3,
   "id": "16726d22",
   "metadata": {},
   "outputs": [
    {
     "data": {
      "text/plain": [
       "200"
      ]
     },
     "execution_count": 3,
     "metadata": {},
     "output_type": "execute_result"
    }
   ],
   "source": [
    "# Define the URL where the webpage can be accessed\n",
    "\n",
    "url = \"https://www.worldometers.info/coronavirus/#countries\"\n",
    "\n",
    "#Request the web page from the URL\n",
    "\n",
    "response = requests.get(url, allow_redirects = True) #requesting the url\n",
    "\n",
    "response.status_code # check if the page was requested successfully"
   ]
  },
  {
   "cell_type": "markdown",
   "id": "a4ec99bc",
   "metadata": {},
   "source": [
    "We can also view the metadata associated with our requests: "
   ]
  },
  {
   "cell_type": "code",
   "execution_count": 4,
   "id": "f84a1fe7",
   "metadata": {},
   "outputs": [
    {
     "data": {
      "text/plain": [
       "{'Connection': 'Keep-Alive', 'Content-Type': 'text/html; charset=UTF-8', 'Etag': '\"925019769-1673284856;br\"', 'X-LiteSpeed-Cache': 'hit', 'Transfer-Encoding': 'chunked', 'Content-Encoding': 'br', 'Vary': 'Accept-Encoding', 'Date': 'Mon, 09 Jan 2023 17:21:06 GMT', 'Server': 'LiteSpeed', 'Alt-Svc': 'quic=\":443\"; ma=2592000; v=\"43,46\", h3-Q043=\":443\"; ma=2592000, h3-Q046=\":443\"; ma=2592000, h3-Q050=\":443\"; ma=2592000, h3-25=\":443\"; ma=2592000, h3-27=\":443\"; ma=2592000'}"
      ]
     },
     "execution_count": 4,
     "metadata": {},
     "output_type": "execute_result"
    }
   ],
   "source": [
    "response.headers"
   ]
  },
  {
   "cell_type": "markdown",
   "id": "6634ac8e",
   "metadata": {},
   "source": [
    "### Parsing the web page"
   ]
  },
  {
   "cell_type": "code",
   "execution_count": 5,
   "id": "1637a5db",
   "metadata": {},
   "outputs": [
    {
     "data": {
      "text/plain": [
       "\n",
       "<!DOCTYPE html>\n",
       "\n",
       "<!--[if IE 8]> <html lang=\"en\" class=\"ie8\"> <![endif]-->\n",
       "<!--[if IE 9]> <html lang=\"en\" class=\"ie9\"> <![endif]-->\n",
       "<!--[if !IE]><!-->\n",
       "<html lang=\"en\">\n",
       "<!--<![endif]-->\n",
       "<head>\n",
       "<meta charset=\"utf-8\"/>\n",
       "<meta content=\"IE=edge\" http-equiv=\"X-UA-Compatible\"/>\n",
       "<meta content=\"width=device-width, initial-scale=1\" name=\"viewport\"/>\n",
       "<title>COVID Live - Coronavirus Statistics - Worldometer</title>\n",
       "<meta content=\"Live statistics and coronavirus news tracking the number of confirmed cases, recovered patients, tests, and death toll due to the COVID-19 coronavirus from Wuhan, China. Coronavirus counter with new cases, deaths, and number of tests per 1 Million population. Historical data and info. Daily charts, graphs, news and updates\" name=\"description\"/>\n",
       "<!-- Favicon -->\n",
       "<link href=\"/favicon/favicon.ico\" rel=\"shortcut icon\" type=\"image/x-icon\"/>\n",
       "<link href=\"/favicon/apple-icon-57x57.png\" rel=\"apple-touch-icon\" sizes=\"57x57\"/>\n",
       "\t&lt;link rel=\"apple-touch-icon\" </head></html>"
      ]
     },
     "execution_count": 5,
     "metadata": {},
     "output_type": "execute_result"
    }
   ],
   "source": [
    "# Extract the contents of the web page from the response\n",
    "\n",
    "soup_response = soup(response.text, \"html.parser\") #Parse the text as a Beautiful Soup object\n",
    "soup_sample = soup(response.text[:1000], \"html.parser\") # Parse a sample of the text\n",
    "soup_sample"
   ]
  },
  {
   "cell_type": "markdown",
   "id": "947ba78f",
   "metadata": {},
   "source": [
    "### Extracting information"
   ]
  },
  {
   "cell_type": "code",
   "execution_count": 6,
   "id": "fedf27bd",
   "metadata": {},
   "outputs": [
    {
     "data": {
      "text/plain": [
       "[]"
      ]
     },
     "execution_count": 6,
     "metadata": {},
     "output_type": "execute_result"
    }
   ],
   "source": [
    "sections = soup_response.find_all(\"div\", id = \"maincounter.wrap\")\n",
    "sections"
   ]
  },
  {
   "cell_type": "code",
   "execution_count": 7,
   "id": "3d928ad0",
   "metadata": {},
   "outputs": [
    {
     "data": {
      "text/plain": [
       "0"
      ]
     },
     "execution_count": 7,
     "metadata": {},
     "output_type": "execute_result"
    }
   ],
   "source": [
    "len(sections)"
   ]
  },
  {
   "cell_type": "code",
   "execution_count": 8,
   "id": "a7876a87",
   "metadata": {},
   "outputs": [],
   "source": [
    "for section in sections:\n",
    "    print(\"------\")\n",
    "    print(section)\n",
    "    print(\"------\")\n",
    "    print(\"/r\") # print some blank space for better formatting"
   ]
  },
  {
   "cell_type": "code",
   "execution_count": 10,
   "id": "ec596d84",
   "metadata": {},
   "outputs": [
    {
     "ename": "IndexError",
     "evalue": "list index out of range",
     "output_type": "error",
     "traceback": [
      "\u001b[1;31m---------------------------------------------------------------------------\u001b[0m",
      "\u001b[1;31mIndexError\u001b[0m                                Traceback (most recent call last)",
      "Input \u001b[1;32mIn [10]\u001b[0m, in \u001b[0;36m<cell line: 1>\u001b[1;34m()\u001b[0m\n\u001b[1;32m----> 1\u001b[0m cases \u001b[38;5;241m=\u001b[39m \u001b[43msections\u001b[49m\u001b[43m[\u001b[49m\u001b[38;5;241;43m0\u001b[39;49m\u001b[43m]\u001b[49m\u001b[38;5;241m.\u001b[39mfind(\u001b[38;5;124m\"\u001b[39m\u001b[38;5;124mspan\u001b[39m\u001b[38;5;124m\"\u001b[39m)\u001b[38;5;241m.\u001b[39mtext\u001b[38;5;241m.\u001b[39mreplace(\u001b[38;5;124m\"\u001b[39m\u001b[38;5;124m \u001b[39m\u001b[38;5;124m\"\u001b[39m, \u001b[38;5;124m\"\u001b[39m\u001b[38;5;124m\"\u001b[39m)\u001b[38;5;241m.\u001b[39mreplace(\u001b[38;5;124m\"\u001b[39m\u001b[38;5;124m,\u001b[39m\u001b[38;5;124m\"\u001b[39m,\u001b[38;5;124m\"\u001b[39m\u001b[38;5;124m\"\u001b[39m)\n\u001b[0;32m      2\u001b[0m deaths \u001b[38;5;241m=\u001b[39m sections[\u001b[38;5;241m1\u001b[39m]\u001b[38;5;241m.\u001b[39mfind(\u001b[38;5;124m\"\u001b[39m\u001b[38;5;124mspan\u001b[39m\u001b[38;5;124m\"\u001b[39m)\u001b[38;5;241m.\u001b[39mtext\u001b[38;5;241m.\u001b[39mreplace(\u001b[38;5;124m\"\u001b[39m\u001b[38;5;124m \u001b[39m\u001b[38;5;124m\"\u001b[39m, \u001b[38;5;124m\"\u001b[39m\u001b[38;5;124m\"\u001b[39m)\n\u001b[0;32m      3\u001b[0m recov \u001b[38;5;241m=\u001b[39m sections[\u001b[38;5;241m2\u001b[39m]\u001b[38;5;241m.\u001b[39mfind(\u001b[38;5;124m\"\u001b[39m\u001b[38;5;124mspan\u001b[39m\u001b[38;5;124m\"\u001b[39m)\u001b[38;5;241m.\u001b[39mtext\u001b[38;5;241m.\u001b[39mreplace(\u001b[38;5;124m\"\u001b[39m\u001b[38;5;124m \u001b[39m\u001b[38;5;124m\"\u001b[39m, \u001b[38;5;124m\"\u001b[39m\u001b[38;5;124m\"\u001b[39m)\n",
      "\u001b[1;31mIndexError\u001b[0m: list index out of range"
     ]
    }
   ],
   "source": [
    "cases = sections[0].find(\"span\").text.replace(\" \", \"\").replace(\",\",\"\")\n",
    "deaths = sections[1].find(\"span\").text.replace(\" \", \"\")\n",
    "recov = sections[2].find(\"span\").text.replace(\" \", \"\")\n",
    "print(\"No. of cases: {}; deathe: {}; and recoveries: {}.\".format(cases, deaths,recov))"
   ]
  },
  {
   "cell_type": "code",
   "execution_count": null,
   "id": "a100f936",
   "metadata": {},
   "outputs": [],
   "source": []
  }
 ],
 "metadata": {
  "kernelspec": {
   "display_name": "Python 3 (ipykernel)",
   "language": "python",
   "name": "python3"
  },
  "language_info": {
   "codemirror_mode": {
    "name": "ipython",
    "version": 3
   },
   "file_extension": ".py",
   "mimetype": "text/x-python",
   "name": "python",
   "nbconvert_exporter": "python",
   "pygments_lexer": "ipython3",
   "version": "3.9.12"
  }
 },
 "nbformat": 4,
 "nbformat_minor": 5
}
